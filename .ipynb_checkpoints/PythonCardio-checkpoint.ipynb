{
 "cells": [
  {
   "cell_type": "code",
   "execution_count": 1,
   "metadata": {},
   "outputs": [],
   "source": [
    "import matplotlib.pyplot as plt\n",
    "import numpy as np\n",
    "import pandas as pd\n",
    "import math\n",
    "import random"
   ]
  },
  {
   "cell_type": "code",
   "execution_count": 4,
   "metadata": {},
   "outputs": [],
   "source": [
    "#definir classe triangulo\n",
    "class Triangulo:\n",
    "    def __init__(self, base, altura):\n",
    "        self.base=base\n",
    "        self.altura=altura\n",
    "        \n",
    "    def area(self):\n",
    "        base=self.base\n",
    "        altura=self.altura\n",
    "        area=(base*altura)/2\n",
    "        return area\n",
    "    \n",
    "    def perimetro(self,area):\n",
    "        lado1=self.base\n",
    "        lado2=np.round(math.sqrt(area),2)\n",
    "        hip=np.round(math.sqrt(math.pow(lado1,2)-math.pow(lado2,2)),2)\n",
    "        return lado1, lado2, hip\n",
    "    \n",
    "    def main(self):\n",
    "        area=self.area()\n",
    "        perimetro=self.perimetro(area)\n",
    "        if perimetro[0]==perimetro[1] and perimetro[2]==0:\n",
    "            print(f'Su área es de {area}m2 y es un Triángulo Equilátero')\n",
    "        elif perimetro[1]==perimetro[2]:\n",
    "            print(f'Su área es de {area}m2 y es un Triángulo Isósceles')\n",
    "        else:\n",
    "            print(f'Su área es de {area}m2 y es un Triángulo escaleno')\n",
    "        "
   ]
  },
  {
   "cell_type": "code",
   "execution_count": 5,
   "metadata": {},
   "outputs": [
    {
     "name": "stdout",
     "output_type": "stream",
     "text": [
      "Su área es de 200.0m2 y es un Triángulo Isósceles\n"
     ]
    }
   ],
   "source": [
    "triangulo1=Triangulo(20,20)\n",
    "area=triangulo1.area()\n",
    "lados=triangulo1.perimetro(area)\n",
    "triangulo1.main()"
   ]
  },
  {
   "cell_type": "code",
   "execution_count": 91,
   "metadata": {},
   "outputs": [
    {
     "data": {
      "text/plain": [
       "(20, 14.14, 14.14)"
      ]
     },
     "execution_count": 91,
     "metadata": {},
     "output_type": "execute_result"
    }
   ],
   "source": [
    "lados[0],lados[1],lados[2] "
   ]
  },
  {
   "cell_type": "code",
   "execution_count": 80,
   "metadata": {},
   "outputs": [
    {
     "data": {
      "text/plain": [
       "0.0"
      ]
     },
     "execution_count": 80,
     "metadata": {},
     "output_type": "execute_result"
    }
   ],
   "source": [
    "val=(20*40)/2\n",
    "val=math.sqrt(val)\n",
    "hipote=np.round(math.sqrt(math.pow(20,2)-math.pow(val,2)),2)\n",
    "hipote"
   ]
  },
  {
   "cell_type": "code",
   "execution_count": 76,
   "metadata": {},
   "outputs": [
    {
     "data": {
      "text/plain": [
       "20.0"
      ]
     },
     "execution_count": 76,
     "metadata": {},
     "output_type": "execute_result"
    }
   ],
   "source": [
    "math.sqrt(val)"
   ]
  },
  {
   "cell_type": "code",
   "execution_count": 7,
   "metadata": {},
   "outputs": [],
   "source": [
    "#piedra papel o tijera\n",
    "  \n",
    "def jugada():\n",
    "    opciones=['piedra', 'papel', 'tijera']\n",
    "    valor=random.choice(opciones)\n",
    "    return valor"
   ]
  },
  {
   "cell_type": "code",
   "execution_count": 24,
   "metadata": {},
   "outputs": [
    {
     "data": {
      "text/plain": [
       "'tijera'"
      ]
     },
     "execution_count": 24,
     "metadata": {},
     "output_type": "execute_result"
    }
   ],
   "source": [
    "jugada()"
   ]
  },
  {
   "cell_type": "code",
   "execution_count": 31,
   "metadata": {},
   "outputs": [
    {
     "name": "stdout",
     "output_type": "stream",
     "text": [
      "valor1> dasd\n",
      "intentos 1 piedra\n",
      "valor1> sdada\n",
      "intentos 2 piedra\n",
      "valor1> asdds\n",
      "intentos 3 piedra\n",
      "valor1> asddas\n",
      "intentos 4 piedra\n"
     ]
    }
   ],
   "source": [
    "intentos=0\n",
    "while intentos<4:\n",
    "    intentos+=1\n",
    "    jugador=input('valor1> ')\n",
    "    maquina=jugada()\n",
    "    if valor!=respuesta:\n",
    "        print('intentos', intentos,respuesta)\n",
    "    "
   ]
  },
  {
   "cell_type": "code",
   "execution_count": null,
   "metadata": {},
   "outputs": [],
   "source": []
  },
  {
   "cell_type": "code",
   "execution_count": null,
   "metadata": {},
   "outputs": [],
   "source": []
  }
 ],
 "metadata": {
  "kernelspec": {
   "display_name": "Python 3",
   "language": "python",
   "name": "python3"
  },
  "language_info": {
   "codemirror_mode": {
    "name": "ipython",
    "version": 3
   },
   "file_extension": ".py",
   "mimetype": "text/x-python",
   "name": "python",
   "nbconvert_exporter": "python",
   "pygments_lexer": "ipython3",
   "version": "3.8.5"
  }
 },
 "nbformat": 4,
 "nbformat_minor": 4
}
