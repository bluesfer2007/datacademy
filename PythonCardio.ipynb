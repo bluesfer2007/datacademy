{
 "cells": [
  {
   "cell_type": "code",
   "execution_count": 8,
   "metadata": {},
   "outputs": [],
   "source": [
    "import matplotlib.pyplot as plt\n",
    "import numpy as np\n",
    "import pandas as pd\n",
    "import numpy as np\n",
    "import math\n",
    "import random"
   ]
  },
  {
   "cell_type": "code",
   "execution_count": 2,
   "metadata": {},
   "outputs": [],
   "source": [
    "#definir classe triangulo\n",
    "class Triangulo:\n",
    "    def __init__(self, base, altura):\n",
    "        self.base=base\n",
    "        self.altura=altura\n",
    "        \n",
    "    def area(self):\n",
    "        base=self.base\n",
    "        altura=self.altura\n",
    "        area=(base*altura)/2\n",
    "        return area\n",
    "    \n",
    "    def perimetro(self,area):\n",
    "        lado1=self.base\n",
    "        lado2=np.round(math.sqrt(area),2)\n",
    "        hip=np.round(math.sqrt(math.pow(lado1,2)-math.pow(lado2,2)),2)\n",
    "        return lado1, lado2, hip\n",
    "    \n",
    "    def main(self):\n",
    "        area=self.area()\n",
    "        perimetro=self.perimetro(area)\n",
    "        if perimetro[0]==perimetro[1] and perimetro[2]==0:\n",
    "            print(f'Su área es de {area}m2 y es un Triángulo Equilátero')\n",
    "        elif perimetro[1]==perimetro[2]:\n",
    "            print(f'Su área es de {area}m2 y es un Triángulo Isósceles')\n",
    "        else:\n",
    "            print(f'Su área es de {area}m2 y es un Triángulo escaleno')\n",
    "        "
   ]
  },
  {
   "cell_type": "code",
   "execution_count": 7,
   "metadata": {},
   "outputs": [
    {
     "name": "stdout",
     "output_type": "stream",
     "text": [
      "Su área es de 90.0m2 y es un Triángulo escaleno\n"
     ]
    }
   ],
   "source": [
    "triangulo1=Triangulo(12,15)\n",
    "area=triangulo1.area()\n",
    "lados=triangulo1.perimetro(area)\n",
    "triangulo1.main()"
   ]
  },
  {
   "cell_type": "code",
   "execution_count": 91,
   "metadata": {},
   "outputs": [
    {
     "data": {
      "text/plain": [
       "(20, 14.14, 14.14)"
      ]
     },
     "execution_count": 91,
     "metadata": {},
     "output_type": "execute_result"
    }
   ],
   "source": [
    "lados[0],lados[1],lados[2] "
   ]
  },
  {
   "cell_type": "code",
   "execution_count": 80,
   "metadata": {},
   "outputs": [
    {
     "data": {
      "text/plain": [
       "0.0"
      ]
     },
     "execution_count": 80,
     "metadata": {},
     "output_type": "execute_result"
    }
   ],
   "source": [
    "val=(20*40)/2\n",
    "val=math.sqrt(val)\n",
    "hipote=np.round(math.sqrt(math.pow(20,2)-math.pow(val,2)),2)\n",
    "hipote"
   ]
  },
  {
   "cell_type": "code",
   "execution_count": 76,
   "metadata": {},
   "outputs": [
    {
     "data": {
      "text/plain": [
       "20.0"
      ]
     },
     "execution_count": 76,
     "metadata": {},
     "output_type": "execute_result"
    }
   ],
   "source": [
    "math.sqrt(val)"
   ]
  },
  {
   "cell_type": "code",
   "execution_count": 61,
   "metadata": {},
   "outputs": [],
   "source": [
    "#piedra papel o tijera\n",
    "  \n",
    "def jugada():\n",
    "    opciones=['piedra', 'papel', 'tijera']\n",
    "    valor=random.choice(opciones)\n",
    "    return valor\n",
    "def resul(resultados):\n",
    "    if resultados.count('Ganador')>1:\n",
    "        print('GANASTE UNA CEBOLLA DE HORA')\n",
    "    elif resultados.count('Empate')==3:\n",
    "        print('ES UN EMPATE WOW')\n",
    "    else:\n",
    "        print('PERDISTE LA CEBOLLA DE HORA')\n",
    "    "
   ]
  },
  {
   "cell_type": "code",
   "execution_count": 71,
   "metadata": {},
   "outputs": [
    {
     "name": "stdout",
     "output_type": "stream",
     "text": [
      "valor1> tijera\n",
      "tu contricante piedra\n",
      "valor1> tijera\n",
      "tu contricante papel\n",
      "valor1> papel\n",
      "tu contricante piedra\n",
      "GANASTE UNA CEBOLLA DE HORA\n"
     ]
    }
   ],
   "source": [
    "intentos=0\n",
    "resultados=[]\n",
    "while intentos<3:\n",
    "    \n",
    "    intentos+=1\n",
    "    jugador=input('valor1> ').lower()\n",
    "    maquina=jugada()\n",
    "    if jugador==maquina:\n",
    "        print(f'tu contricante {maquina}')\n",
    "        resultados.append('Empate')\n",
    "    elif jugador=='piedra' and maquina=='papel':\n",
    "        print(f'tu contricante {maquina}')\n",
    "        resultados.append('Pierdes')\n",
    "    elif jugador=='piedra' and maquina=='tijera':\n",
    "        print(f'tu contricante {maquina}')\n",
    "        resultados.append('Ganador')\n",
    "    elif jugador=='papel' and maquina=='piedra':\n",
    "        print(f'tu contricante {maquina}')\n",
    "        resultados.append('Ganador')\n",
    "    elif jugador=='papel' and maquina=='tijera':\n",
    "        print(f'tu contricante {maquina}')\n",
    "        resultados.append('Pierdes')\n",
    "    elif jugador=='tijera' and maquina=='piedra':\n",
    "        print(f'tu contricante {maquina}')\n",
    "        resultados.append('Pierdes')\n",
    "    elif jugador=='tijera' and maquina=='papel':\n",
    "        print(f'tu contricante {maquina}')\n",
    "        resultados.append('Ganador')\n",
    "resul(resultados)"
   ]
  },
  {
   "cell_type": "code",
   "execution_count": 58,
   "metadata": {},
   "outputs": [],
   "source": []
  },
  {
   "cell_type": "code",
   "execution_count": 75,
   "metadata": {},
   "outputs": [],
   "source": [
    "#comversor de millas a kilometros\n",
    "def conversor(valor,opcion):\n",
    "    factor=1.609344\n",
    "    if opcion==1:\n",
    "        print(f'{valor} millas son', valor*factor, 'kilometros')\n",
    "    elif opcion==2:\n",
    "        print(f'{valor} km son ', valor/factor, 'millas')"
   ]
  },
  {
   "cell_type": "code",
   "execution_count": 79,
   "metadata": {},
   "outputs": [
    {
     "name": "stdout",
     "output_type": "stream",
     "text": [
      "Bienvenido al conversor de millas a kilometros\n",
      "Escoge una opcion \n",
      " [1] millas a km \n",
      " [2] km a milla\n",
      "Escoge la opción 1 o 2> 1\n",
      "Ingresa el valor a convertir> 300\n",
      "300 millas son 482.80320000000006 kilometros\n",
      "Escoge la opción 1 o 2> 1\n",
      "Ingresa el valor a convertir> 1000\n",
      "1000 millas son 1609.344 kilometros\n",
      "Escoge la opción 1 o 2> 3\n",
      "Ingresa el valor a convertir> das\n"
     ]
    },
    {
     "ename": "ValueError",
     "evalue": "invalid literal for int() with base 10: 'das'",
     "output_type": "error",
     "traceback": [
      "\u001b[1;31m---------------------------------------------------------------------------\u001b[0m",
      "\u001b[1;31mValueError\u001b[0m                                Traceback (most recent call last)",
      "\u001b[1;32m<ipython-input-79-b6ba2ff1e59e>\u001b[0m in \u001b[0;36m<module>\u001b[1;34m\u001b[0m\n\u001b[0;32m      3\u001b[0m \u001b[1;32mwhile\u001b[0m \u001b[1;32mTrue\u001b[0m\u001b[1;33m:\u001b[0m\u001b[1;33m\u001b[0m\u001b[1;33m\u001b[0m\u001b[0m\n\u001b[0;32m      4\u001b[0m     \u001b[0mopcion\u001b[0m\u001b[1;33m=\u001b[0m\u001b[0mint\u001b[0m\u001b[1;33m(\u001b[0m\u001b[0minput\u001b[0m\u001b[1;33m(\u001b[0m\u001b[1;34m'Escoge la opción 1 o 2> '\u001b[0m\u001b[1;33m)\u001b[0m\u001b[1;33m)\u001b[0m\u001b[1;33m\u001b[0m\u001b[1;33m\u001b[0m\u001b[0m\n\u001b[1;32m----> 5\u001b[1;33m     \u001b[0mvalor\u001b[0m\u001b[1;33m=\u001b[0m\u001b[0mint\u001b[0m\u001b[1;33m(\u001b[0m\u001b[0minput\u001b[0m\u001b[1;33m(\u001b[0m\u001b[1;34m'Ingresa el valor a convertir> '\u001b[0m\u001b[1;33m)\u001b[0m\u001b[1;33m)\u001b[0m\u001b[1;33m\u001b[0m\u001b[1;33m\u001b[0m\u001b[0m\n\u001b[0m\u001b[0;32m      6\u001b[0m     \u001b[1;32mif\u001b[0m \u001b[0mopcion\u001b[0m \u001b[1;32mnot\u001b[0m \u001b[1;32min\u001b[0m \u001b[1;33m[\u001b[0m\u001b[1;36m1\u001b[0m\u001b[1;33m,\u001b[0m\u001b[1;36m2\u001b[0m\u001b[1;33m]\u001b[0m\u001b[1;33m:\u001b[0m\u001b[1;33m\u001b[0m\u001b[1;33m\u001b[0m\u001b[0m\n\u001b[0;32m      7\u001b[0m         \u001b[1;32mbreak\u001b[0m\u001b[1;33m\u001b[0m\u001b[1;33m\u001b[0m\u001b[0m\n",
      "\u001b[1;31mValueError\u001b[0m: invalid literal for int() with base 10: 'das'"
     ]
    }
   ],
   "source": [
    "print('Bienvenido al conversor de millas a kilometros')\n",
    "print('Escoge una opcion \\n [1] millas a km \\n [2] km a milla')\n",
    "while True:\n",
    "    opcion=int(input('Escoge la opción 1 o 2> '))\n",
    "    valor=int(input('Ingresa el valor a convertir> '))\n",
    "    if opcion not in [1,2]:\n",
    "        break\n",
    "    else:\n",
    "        conversor(valor, opcion)"
   ]
  },
  {
   "cell_type": "code",
   "execution_count": 9,
   "metadata": {},
   "outputs": [],
   "source": [
    "a=np.array([7,3,1,6])\n",
    "b=np.array([1.4,0,7,3])"
   ]
  },
  {
   "cell_type": "code",
   "execution_count": 10,
   "metadata": {},
   "outputs": [
    {
     "data": {
      "text/plain": [
       "34.8"
      ]
     },
     "execution_count": 10,
     "metadata": {},
     "output_type": "execute_result"
    }
   ],
   "source": [
    "np.dot(a,b)"
   ]
  },
  {
   "cell_type": "code",
   "execution_count": 15,
   "metadata": {},
   "outputs": [],
   "source": [
    "import numpy as np\n",
    "from sklearn.datasets import load_breast_cancer \n",
    "dataSet = load_breast_cancer() \n",
    "data = dataSet.data "
   ]
  },
  {
   "cell_type": "code",
   "execution_count": 16,
   "metadata": {},
   "outputs": [
    {
     "data": {
      "text/plain": [
       "(569, 30)"
      ]
     },
     "execution_count": 16,
     "metadata": {},
     "output_type": "execute_result"
    }
   ],
   "source": [
    "data.shape"
   ]
  },
  {
   "cell_type": "code",
   "execution_count": 14,
   "metadata": {},
   "outputs": [
    {
     "name": "stdout",
     "output_type": "stream",
     "text": [
      "90.0\n"
     ]
    }
   ],
   "source": [
    "def angle_between(v1, v2):\n",
    "    dot_pr = v1.dot(v2)\n",
    "    norms = np.linalg.norm(v1) * np.linalg.norm(v2)\n",
    " \n",
    "    return np.rad2deg(np.arccos(dot_pr / norms))\n",
    "a = np.array([0, -1, 0])\n",
    "b = np.array([-1, 0, 0])\n",
    "print(angle_between(a, b))"
   ]
  },
  {
   "cell_type": "code",
   "execution_count": 17,
   "metadata": {},
   "outputs": [
    {
     "data": {
      "text/plain": [
       "76"
      ]
     },
     "execution_count": 17,
     "metadata": {},
     "output_type": "execute_result"
    }
   ],
   "source": [
    "2021-1945"
   ]
  },
  {
   "cell_type": "code",
   "execution_count": null,
   "metadata": {},
   "outputs": [],
   "source": []
  }
 ],
 "metadata": {
  "kernelspec": {
   "display_name": "Python 3",
   "language": "python",
   "name": "python3"
  },
  "language_info": {
   "codemirror_mode": {
    "name": "ipython",
    "version": 3
   },
   "file_extension": ".py",
   "mimetype": "text/x-python",
   "name": "python",
   "nbconvert_exporter": "python",
   "pygments_lexer": "ipython3",
   "version": "3.8.5"
  }
 },
 "nbformat": 4,
 "nbformat_minor": 4
}
